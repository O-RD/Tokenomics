{
 "cells": [
  {
   "cell_type": "code",
   "execution_count": null,
   "metadata": {},
   "outputs": [],
   "source": [
    "import model as md\n",
    "import random\n",
    "import numpy as np\n",
    "import matplotlib.pyplot as plt\n",
    "\n",
    "\n",
    "#Model Parameters\n",
    "token_cat = ['common', 'premium', 'rare'] #descending to ascending value order must be maintained\n",
    "category_weights = {token_cat[0]:0.90, token_cat[1]:0.09, token_cat[2]:0.01}\n",
    "starting_breed_cost = 0.5\n",
    "customer_num = 10000\n",
    "token_num = 1600\n",
    "dist_params = [0,1]\n",
    "est_mating_cutoff = 20 # breed cost multiplier after which customers stop using the token\n",
    "breeding_choice_type = 0\n",
    "transfer_details = [1, round(0.1*customer_num)] # type of token transfer between customers at each step, number of customers transferring at each step\n",
    "mates_per_step = 0.25 # percent of customers mating per step\n",
    "distribution_option = 1 # how to select mating pairs each step\n",
    "\n",
    "#Simulation Parameters\n",
    "# 1 step = 1 week\n",
    "# Customers are selected to mate based on a log normal distribution per week\n",
    "# partners are selected from the same list & after mating partners are removed from the list\n",
    "\n",
    "\n",
    "# Add variable for % of people breeding at a time\n",
    "# if it's rare, breed it less often , and possibly use the new rare token if there is one\n",
    "# Create a claim rate for each category - i.e. people who claim/don't claim tokens in each type"
   ]
  },
  {
   "cell_type": "code",
   "execution_count": null,
   "metadata": {},
   "outputs": [],
   "source": [
    "y = np.random.lognormal(0.1,0.25,round(0.5*customer_num))\n",
    "print(max(y))\n",
    "print(len(y))\n",
    "adjusted_y = y/max(y)*customer_num\n",
    "plt.hist(np.round(adjusted_y),100)"
   ]
  },
  {
   "cell_type": "code",
   "execution_count": null,
   "metadata": {
    "scrolled": true
   },
   "outputs": [],
   "source": [
    "simulation = md.ZebraNFTModel(customer_num,\n",
    "                              token_num, dist_params, \n",
    "                              token_cat, category_weights, \n",
    "                              est_mating_cutoff, \n",
    "                              breeding_choice_type, \n",
    "                              transfer_details,\n",
    "                              mates_per_step,\n",
    "                              distribution_option)\n",
    "token_count = []\n",
    "number_of_tokens = 0\n",
    "for category in token_cat:\n",
    "    print('Category '+ category)\n",
    "    number_of_tokens = 0\n",
    "    for token in simulation.zeb_token_list:\n",
    "        if token.category == category:\n",
    "            number_of_tokens +=1\n",
    "    print(\"number of tokensin category \" +category+\"=\"+ str(number_of_tokens))\n",
    "    token_count.append(number_of_tokens)"
   ]
  },
  {
   "cell_type": "code",
   "execution_count": null,
   "metadata": {},
   "outputs": [],
   "source": []
  },
  {
   "cell_type": "code",
   "execution_count": null,
   "metadata": {
    "tags": [
     "outputPrepend"
    ]
   },
   "outputs": [],
   "source": [
    "token_counts = {}\n",
    "for category in token_cat:\n",
    "    token_counts[category] = []\n",
    "\n",
    "decision_count = {}\n",
    "decisions = [1, 2, 3, 4]\n",
    "for decision in decisions:\n",
    "    decision_count[decision] = []\n",
    "\n",
    "for i in range(52*3):\n",
    "    simulation.step()\n",
    "    token_count = []\n",
    "    number_of_tokens = 0\n",
    "    for category in token_cat:\n",
    "        #print('Category '+ category)\n",
    "        number_of_tokens = 0\n",
    "        for token in simulation.zeb_token_list:\n",
    "            if token.category == category:\n",
    "                number_of_tokens +=1\n",
    "        #print(\"number of tokensin category \" +category+\"=\"+ str(number_of_tokens))\n",
    "        token_counts[category].append(number_of_tokens)\n",
    "    \n",
    "    for decision in decisions:\n",
    "        #print('Category '+ category)\n",
    "        count = 0\n",
    "        for token in simulation.zeb_token_list:\n",
    "            if token.decision == decision:\n",
    "                count +=1\n",
    "        #print(\"number of tokensin category \" +category+\"=\"+ str(number_of_tokens))\n",
    "        decision_count[decision].append(count)\n",
    "    "
   ]
  },
  {
   "cell_type": "code",
   "execution_count": null,
   "metadata": {},
   "outputs": [],
   "source": [
    "len(simulation.zeb_token_list)"
   ]
  },
  {
   "cell_type": "code",
   "execution_count": null,
   "metadata": {},
   "outputs": [],
   "source": [
    "token_count = []\n",
    "number_of_tokens = 0\n",
    "for category in token_cat:\n",
    "    print('Category '+ category)\n",
    "    number_of_tokens = 0\n",
    "    for token in simulation.zeb_token_list:\n",
    "        if token.category == category:\n",
    "            number_of_tokens +=1\n",
    "    print(\"number of tokensin category \" +category+\"=\"+ str(number_of_tokens))\n",
    "    token_count.append(number_of_tokens)\n",
    "    "
   ]
  },
  {
   "cell_type": "code",
   "execution_count": null,
   "metadata": {
    "scrolled": true
   },
   "outputs": [],
   "source": [
    "print(token_counts['common'])"
   ]
  },
  {
   "cell_type": "code",
   "execution_count": null,
   "metadata": {},
   "outputs": [],
   "source": [
    "print(token_counts['premium'])"
   ]
  },
  {
   "cell_type": "code",
   "execution_count": null,
   "metadata": {},
   "outputs": [],
   "source": [
    "print(token_counts['rare'])"
   ]
  },
  {
   "cell_type": "code",
   "execution_count": null,
   "metadata": {},
   "outputs": [],
   "source": [
    "# number of tokens of each type over time\n",
    "\n",
    "import matplotlib.pyplot as plt\n",
    "\n",
    "plt.figure(figsize=(20,10))\n",
    "for category in token_cat:\n",
    "    plt.plot(range(len(token_counts[category])),token_counts[category])\n",
    "    plt.text(range(len(token_counts[category]))[-1], token_counts[category][-1], category)\n"
   ]
  },
  {
   "cell_type": "code",
   "execution_count": null,
   "metadata": {},
   "outputs": [],
   "source": [
    "# Rate of mating category decision\n",
    "\n",
    "plt.figure(figsize=(20,10))\n",
    "for decision in decisions:\n",
    "    plt.plot(range(len(decision_count[decision])),decision_count[decision])\n",
    "    plt.text(range(len(decision_count[decision]))[-1], decision_count[decision][-1], decision)\n",
    "\n"
   ]
  },
  {
   "cell_type": "code",
   "execution_count": null,
   "metadata": {},
   "outputs": [],
   "source": []
  }
 ],
 "metadata": {
  "kernelspec": {
   "display_name": "Python 3.8.6 64-bit",
   "language": "python",
   "name": "python386jvsc74a57bd0a65d8d56c8269f8519b10bb24d347ce54d1298731d3ed938309995827f20be24"
  },
  "language_info": {
   "codemirror_mode": {
    "name": "ipython",
    "version": 3
   },
   "file_extension": ".py",
   "mimetype": "text/x-python",
   "name": "python",
   "nbconvert_exporter": "python",
   "pygments_lexer": "ipython3",
   "version": "3.8.6"
  }
 },
 "nbformat": 4,
 "nbformat_minor": 4
}
